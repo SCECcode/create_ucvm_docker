{
 "cells": [
  {
   "cell_type": "markdown",
   "id": "f5f31e44",
   "metadata": {},
   "source": [
    "Test UCVM Query and Plotting"
   ]
  },
  {
   "cell_type": "code",
   "execution_count": 4,
   "id": "15732a4d",
   "metadata": {},
   "outputs": [],
   "source": [
    "import os"
   ]
  },
  {
   "cell_type": "code",
   "execution_count": 5,
   "id": "b73ed927",
   "metadata": {},
   "outputs": [
    {
     "name": "stdout",
     "output_type": "stream",
     "text": [
      "Running: env\n",
      "CONDA_SHLVL=1\n",
      "PYDEVD_USE_FRAME_EVAL=NO\n",
      "LD_LIBRARY_PATH=/app/ucvm/model/cvmh/lib:/app/ucvm/lib/proj-5/lib:/app/ucvm/lib/euclid3/lib\n",
      "CONDA_EXE=/usr/local/opt/conda/bin/conda\n",
      "_=/usr/bin/env\n",
      "LANG=C.UTF-8\n",
      "HISTCONTROL=ignoredups\n",
      "HOSTNAME=b146c4a5b5c2\n",
      "APP_GID=20\n",
      "CONDA_PREFIX=/usr/local/opt/conda\n",
      "UCVM_SRC_PATH=/app/src\n",
      "DYLD_LIBRARY_PATH=/app/ucvm/model/cvmh/lib:/app/ucvm/lib/proj-5/lib:/app/ucvm/lib/euclid3/lib\n",
      "BDATE=0319\n",
      "_CE_M=\n",
      "which_declare=declare -f\n",
      "USER=ucvmuser\n",
      "PAGER=cat\n",
      "JPY_PARENT_PID=1\n",
      "PWD=/home/ucvmuser/target\n",
      "APP_UID=503\n",
      "HOME=/home/ucvmuser\n",
      "CONDA_PYTHON_EXE=/usr/local/opt/conda/bin/python\n",
      "CLICOLOR=1\n",
      "UCVM_INSTALL_PATH=/app/ucvm\n",
      "_CE_CONDA=\n",
      "CONDA_PROMPT_MODIFIER=(base) \n",
      "MAIL=/var/spool/mail/ucvmuser\n",
      "APP_GRPNAME=staff\n",
      "TERM=xterm-color\n",
      "MPLBACKEND=module://matplotlib_inline.backend_inline\n",
      "SHLVL=2\n",
      "PYTHONPATH=/app/ucvm/utilities/pycvm\n",
      "LOGNAME=ucvmuser\n",
      "PATH=/usr/local/opt/conda/bin:/app/ucvm/utilities:/app/ucvm/bin:/home/ucvmuser/.local/bin:/home/ucvmuser/bin:/usr/local/opt/conda/condabin:/usr/local/sbin:/usr/local/bin:/usr/sbin:/usr/bin:/sbin:/bin\n",
      "DEBUGINFOD_URLS=https://debuginfod.centos.org/ \n",
      "CONDA_DEFAULT_ENV=base\n",
      "HISTSIZE=1000\n",
      "MODELID=cvmh\n",
      "APP_UNAME=ucvmuser\n",
      "LESSOPEN=||/usr/bin/lesspipe.sh %s\n",
      "GIT_PAGER=cat\n",
      "BASH_FUNC_which%%=() {  ( alias;\n",
      " eval ${which_declare} ) | /usr/bin/which --tty-only --read-alias --read-functions --show-tilde --show-dot $@\n",
      "}\n"
     ]
    },
    {
     "data": {
      "text/plain": [
       "0"
      ]
     },
     "execution_count": 5,
     "metadata": {},
     "output_type": "execute_result"
    }
   ],
   "source": [
    "cmd = \"env\"\n",
    "print(\"Running:\", cmd)\n",
    "os.system(cmd)"
   ]
  },
  {
   "cell_type": "code",
   "execution_count": 6,
   "id": "72640f60",
   "metadata": {},
   "outputs": [
    {
     "name": "stdout",
     "output_type": "stream",
     "text": [
      "Running:  ucvm_query -h\n",
      "Usage: ucvm_query [-m models<:ifunc>] [-p user_map] [-c coordtype] [-f config] [-z zmin,zmax] < file.in\n",
      "\n",
      "Flags:\n",
      "\t-h This help message.\n",
      "\t-H Detail help message.\n",
      "\t-m Comma delimited list of crustal/GTL models to query in order\n",
      "\t   of preference. GTL models may optionally be suffixed with ':ifunc'\n",
      "\t   to specify interpolation function.\n",
      "\t-c Z coordinate mode: geo-depth (gd, default), geo-elev (ge).\n",
      "\t-f Configuration file. Default is ./ucvm.conf.\n",
      "\t-p User-defined map to use for elevation and vs30 data.\n",
      "\t-v Display model version information only.\n",
      "\t-z Optional depth range for gtl/crust interpolation.\n",
      "\n",
      "\t-b Optional output in json format\n",
      "\n",
      "\t-l Optional input lat,lon,Z(depth/elevation)\n",
      "\n"
     ]
    },
    {
     "data": {
      "text/plain": [
       "0"
      ]
     },
     "execution_count": 6,
     "metadata": {},
     "output_type": "execute_result"
    }
   ],
   "source": [
    "cmd = \"ucvm_query -h\"\n",
    "print(\"Running: \",cmd)\n",
    "os.system(cmd)"
   ]
  },
  {
   "cell_type": "code",
   "execution_count": 7,
   "id": "f065298b",
   "metadata": {},
   "outputs": [
    {
     "name": "stderr",
     "output_type": "stream",
     "text": [
      "sh: plot_depth_profile.py: command not found\n"
     ]
    },
    {
     "data": {
      "text/plain": [
       "32512"
      ]
     },
     "execution_count": 7,
     "metadata": {},
     "output_type": "execute_result"
    }
   ],
   "source": [
    "cmd = \"plot_depth_profile.py --h\"\n",
    "os.system(cmd)"
   ]
  },
  {
   "cell_type": "code",
   "execution_count": null,
   "id": "82a60d56",
   "metadata": {},
   "outputs": [],
   "source": []
  }
 ],
 "metadata": {
  "kernelspec": {
   "display_name": "Python [conda env:root] *",
   "language": "python",
   "name": "conda-root-py"
  },
  "language_info": {
   "codemirror_mode": {
    "name": "ipython",
    "version": 3
   },
   "file_extension": ".py",
   "mimetype": "text/x-python",
   "name": "python",
   "nbconvert_exporter": "python",
   "pygments_lexer": "ipython3",
   "version": "3.9.12"
  }
 },
 "nbformat": 4,
 "nbformat_minor": 5
}
